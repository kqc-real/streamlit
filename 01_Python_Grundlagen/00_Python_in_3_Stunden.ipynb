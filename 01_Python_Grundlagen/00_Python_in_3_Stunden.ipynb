{
 "cells": [
  {
   "cell_type": "markdown",
   "id": "d7838564",
   "metadata": {},
   "source": [
    "# 🐍 Python Quick-Start – Von 0 auf Data Science in 3 Stunden\n",
    "\n",
    "## Willkommen zum IU Data Analytics & Big Data Kurs!\n",
    "\n",
    "**Keine Panik!** 😊 Du hast noch nie Python programmiert? Kein Problem! In diesem Crashkurs lernst du alle Python-Grundlagen, die du für unseren Data Analytics & Big Data Kurs brauchst.\n",
    "\n",
    "### Was ist Python?\n",
    "- **Python** ist eine Programmiersprache, die besonders gut für Datenanalyse geeignet ist.\n",
    "- **Einfach zu lernen:** Python liest sich fast wie Englisch.\n",
    "- **Sehr beliebt:** Die meistgenutzte Sprache für Data Science und KI.\n",
    "- **Kostenlos:** Komplett Open Source.\n",
    "\n",
    "### Was sind Jupyter Notebooks?\n",
    "- **Jupyter Notebook** ist ein Tool, mit dem du Python-Code schreibst und sofort das Ergebnis siehst.\n",
    "- **Interaktiv:** Du kannst Code-Schnipsel einzeln ausführen.\n",
    "- **Perfekt zum Lernen:** Text, Code und Ergebnisse in einem Dokument.\n",
    "\n",
    "---\n",
    "\n",
    "## 🎬 Ergänzendes Video: Python-Grundlagen\n",
    "\n",
    "**📼 Original AMALEA Video (KIT 2021):**\n",
    "`../Kurs-Videos/amalea-kit2021-w1v1_final (1080p).mp4`\n",
    "\n",
    "💡 **Tipp:** Schau dir das Video an, um die Python-Grundlagen zu verstehen, bevor du mit den praktischen Übungen startest!"
   ]
  },
  {
   "cell_type": "markdown",
   "id": "f98e7d67",
   "metadata": {},
   "source": [
    "## 🏗️ Teil 1: Python Basics (30 Minuten)\n",
    "\n",
    "### Variablen – Deine ersten \"Datenbehälter\""
   ]
  },
  {
   "cell_type": "code",
   "execution_count": null,
   "id": "6249569e",
   "metadata": {},
   "outputs": [],
   "source": [
    "# Das ist ein Kommentar - wird nicht ausgeführt\n",
    "\n",
    "# Variablen erstellen (wie Boxen mit Etiketten)\n",
    "name = \"Anna\"           # Text (String)\n",
    "alter = 25              # Ganze Zahl (Integer)  \n",
    "groesse = 1.68          # Dezimalzahl (Float)\n",
    "ist_student = True      # Wahr/Falsch (Boolean)\n",
    "\n",
    "# Ausgeben mit print()\n",
    "print(\"Name:\", name)\n",
    "print(\"Alter:\", alter)\n",
    "print(\"Größe:\", groesse, \"m\")\n",
    "print(\"Student?\", ist_student)"
   ]
  },
  {
   "cell_type": "markdown",
   "id": "e69f8853",
   "metadata": {},
   "source": [
    "**💡 Erklärung:**\n",
    "- `name = \"Anna\"` erstellt eine Variable namens \"name\" mit dem Wert \"Anna\".\n",
    "- `print()` zeigt Werte auf dem Bildschirm an.\n",
    "- Python erkennt automatisch, welcher Datentyp in jeder Variable steht."
   ]
  },
  {
   "cell_type": "code",
   "execution_count": null,
   "id": "a77abb72",
   "metadata": {},
   "outputs": [],
   "source": [
    "# Rechnen mit Variablen\n",
    "a = 10\n",
    "b = 3\n",
    "\n",
    "print(\"Addition:\", a + b)       # 13\n",
    "print(\"Subtraktion:\", a - b)    # 7\n",
    "print(\"Multiplikation:\", a * b) # 30\n",
    "print(\"Division:\", a / b)       # 3.333...\n",
    "print(\"Potenz:\", a ** b)        # 10³ = 1000\n",
    "\n",
    "# Text zusammenfügen\n",
    "vorname = \"Max\"\n",
    "nachname = \"Mustermann\"\n",
    "vollname = vorname + \" \" + nachname\n",
    "print(\"Vollname:\", vollname)"
   ]
  },
  {
   "cell_type": "markdown",
   "id": "2a91369e",
   "metadata": {},
   "source": [
    "### Listen - Mehrere Werte in einer Variable"
   ]
  },
  {
   "cell_type": "code",
   "execution_count": null,
   "id": "656c32c0",
   "metadata": {},
   "outputs": [],
   "source": [
    "# Listen erstellen (wie eine Einkaufsliste)\n",
    "einkaufsliste = [\"Milch\", \"Brot\", \"Äpfel\", \"Käse\"]\n",
    "zahlen = [1, 5, 3, 9, 2]\n",
    "gemischt = [\"Text\", 42, True, 3.14]\n",
    "\n",
    "print(\"Einkaufsliste:\", einkaufsliste)\n",
    "print(\"Erstes Element:\", einkaufsliste[0])    # Listen starten bei 0!\n",
    "print(\"Letztes Element:\", einkaufsliste[-1])  # -1 = letztes Element\n",
    "\n",
    "# Neue Elemente hinzufügen\n",
    "einkaufsliste.append(\"Butter\")\n",
    "print(\"Nach Hinzufügen:\", einkaufsliste)\n",
    "\n",
    "# Länge einer Liste\n",
    "print(\"Anzahl Elemente:\", len(einkaufsliste))"
   ]
  },
  {
   "cell_type": "markdown",
   "id": "76009c90",
   "metadata": {},
   "source": [
    "**💡 Wichtig:** Listen starten bei Index 0, nicht bei 1!\n",
    "- `liste[0]` = erstes Element\n",
    "- `liste[1]` = zweites Element\n",
    "- `liste[-1]` = letztes Element"
   ]
  },
  {
   "cell_type": "markdown",
   "id": "eceb9f2f",
   "metadata": {},
   "source": [
    "### Schleifen - Code wiederholen"
   ]
  },
  {
   "cell_type": "code",
   "execution_count": null,
   "id": "acb782a6",
   "metadata": {},
   "outputs": [],
   "source": [
    "# For-Schleife: Durch Liste gehen\n",
    "früchte = [\"Apfel\", \"Banane\", \"Orange\"]\n",
    "\n",
    "print(\"Alle Früchte:\")\n",
    "for frucht in früchte:\n",
    "    print(\"- \" + frucht)\n",
    "\n",
    "# Zahlen durchgehen\n",
    "print(\"\\nZahlen 1 bis 5:\")\n",
    "for zahl in range(1, 6):  # range(1,6) = [1,2,3,4,5]\n",
    "    print(zahl)"
   ]
  },
  {
   "cell_type": "markdown",
   "id": "6eb74528",
   "metadata": {},
   "source": [
    "**💡 Erklärung:**\n",
    "- `for frucht in früchte:` geht durch jedes Element der Liste.\n",
    "- `range(1, 6)` erstellt Zahlen von 1 bis 5 (6 ist ausgeschlossen).\n",
    "- **Einrückung ist wichtig!** Alles, was eingerückt ist, gehört zur Schleife."
   ]
  },
  {
   "cell_type": "markdown",
   "id": "07628e82",
   "metadata": {},
   "source": [
    "### If-Bedingungen - Entscheidungen treffen"
   ]
  },
  {
   "cell_type": "code",
   "execution_count": null,
   "id": "8f04f6b5",
   "metadata": {},
   "outputs": [],
   "source": [
    "# Einfache Bedingung\n",
    "alter = 20\n",
    "\n",
    "if alter >= 18:\n",
    "    print(\"Du bist volljährig\")\n",
    "else:\n",
    "    print(\"Du bist minderjährig\")\n",
    "\n",
    "# Mehrere Bedingungen\n",
    "note = 85\n",
    "\n",
    "if note >= 90:\n",
    "    print(\"Sehr gut!\")\n",
    "elif note >= 80:\n",
    "    print(\"Gut!\")\n",
    "elif note >= 70:\n",
    "    print(\"Befriedigend\")\n",
    "else:\n",
    "    print(\"Verbesserung nötig\")"
   ]
  },
  {
   "cell_type": "markdown",
   "id": "05ca2307",
   "metadata": {},
   "source": [
    "**💡 Vergleichsoperatoren:**\n",
    "- `==` gleich (nicht `=`!)\n",
    "- `!=` ungleich\n",
    "- `>` größer als\n",
    "- `>=` größer oder gleich\n",
    "- `<` kleiner als\n",
    "- `<=` kleiner oder gleich"
   ]
  },
  {
   "cell_type": "markdown",
   "id": "cf99c8bc",
   "metadata": {},
   "source": [
    "## 🧰 Teil 2: Wichtige Bibliotheken (45 Minuten)\n",
    "\n",
    "### Was sind Bibliotheken?\n",
    "**Bibliotheken** (auch \"Packages\" oder \"Module\") sind fertige Code-Sammlungen, die andere Programmierer:innen geschrieben haben. Statt alles selbst zu programmieren, nutzt du diese Werkzeuge.\n",
    "\n",
    "**Analogie:** Wenn Python die Sprache ist, sind Bibliotheken wie Werkzeugkästen für verschiedene Aufgaben."
   ]
  },
  {
   "cell_type": "markdown",
   "id": "ff5f920d",
   "metadata": {},
   "source": [
    "### Pandas – Der Excel-Ersatz für Python\n",
    "**Pandas** = **Pan**el **Da**ta **S**ystem (Datenanalyse-Bibliothek)"
   ]
  },
  {
   "cell_type": "code",
   "execution_count": null,
   "id": "3411957b",
   "metadata": {},
   "outputs": [],
   "source": [
    "# Pandas importieren (einmalig pro Notebook)\n",
    "import pandas as pd  # 'pd' ist die Abkürzung\n",
    "\n",
    "# DataFrame erstellen (wie eine Excel-Tabelle)\n",
    "daten = {\n",
    "    'Name': ['Anna', 'Ben', 'Clara', 'David'],\n",
    "    'Alter': [25, 30, 35, 28],\n",
    "    'Stadt': ['Berlin', 'Hamburg', 'München', 'Köln'],\n",
    "    'Gehalt': [45000, 52000, 48000, 51000]\n",
    "}\n",
    "\n",
    "df = pd.DataFrame(daten)  # df = DataFrame\n",
    "print(\"Unser DataFrame:\")\n",
    "print(df)"
   ]
  },
  {
   "cell_type": "markdown",
   "id": "3d345604",
   "metadata": {},
   "source": [
    "### Data Science Best Practices: Pandas DataFrames (Advanced)\n",
    "\n",
    "- **Datenimport:** Nutze `pd.read_csv`, `read_parquet` oder `read_sql` für große Datenmengen. Parquet ist oft schneller und speichereffizienter als CSV.\n",
    "- **Indexierung:** Setze einen sinnvollen Index (`set_index`), um Filter- und Join-Operationen zu beschleunigen.\n",
    "- **Chained Assignment:** Vermeide verkettete Zuweisungen (`df[df.x > 0].y = 1`), da dies zu schwer auffindbaren Bugs führen kann. Nutze stattdessen `.loc`.\n",
    "- **Speicheroptimierung:** Prüfe mit `df.info(memory_usage='deep')` und konvertiere z. B. Strings zu `category`, wenn wenige Ausprägungen vorliegen.\n",
    "- **Vektorisierung:** Schreibe Berechnungen möglichst als Vektoroperationen, nicht in Python-Schleifen – das ist um Größenordnungen schneller.\n",
    "- **Fehlende Werte:** Nutze `isna()`, `fillna()`, `dropna()` gezielt. Achte auf Seiteneffekte bei Inplace-Operationen.\n",
    "- **Testing:** Verwende `assert_frame_equal` aus `pandas.testing` für Unit-Tests von DataFrames.\n",
    "- **Pipelines:** Für reproduzierbare Analysen: Baue Data-Pipelines mit Funktionen oder nutze Libraries wie `sklearn.pipeline` oder `dask`."
   ]
  },
  {
   "cell_type": "code",
   "execution_count": null,
   "id": "869e53df",
   "metadata": {},
   "outputs": [],
   "source": [
    "# Grundlegende DataFrame-Operationen\n",
    "print(\"Erste 2 Zeilen:\")\n",
    "print(df.head(2))\n",
    "\n",
    "print(\"\\nInfo über den DataFrame:\")\n",
    "print(df.info())\n",
    "\n",
    "print(\"\\nNur die Spalte 'Name':\")\n",
    "print(df['Name'])\n",
    "\n",
    "print(\"\\nPersonen älter als 28:\")\n",
    "ältere = df[df['Alter'] > 28]\n",
    "print(ältere)"
   ]
  },
  {
   "cell_type": "markdown",
   "id": "2074e0c4",
   "metadata": {},
   "source": [
    "### Advanced: Data Cleaning, Feature Engineering & Pipeline-Design\n",
    "\n",
    "- **Data Cleaning:** Nutze `df.pipe()` für modulare, wiederverwendbare Cleaning-Schritte. Setze gezielt Regex, Mapping und Outlier-Detection ein.\n",
    "- **Feature Engineering:** Automatisiere Feature-Generierung mit Libraries wie `featuretools` oder nutze `sklearn.compose.ColumnTransformer` für komplexe Pipelines.\n",
    "- **Pipelines:** Baue End-to-End-Pipelines mit `sklearn.pipeline.Pipeline` oder `dask` für verteilte Verarbeitung. So wird Code wartbar und reproduzierbar.\n",
    "- **Testing:** Schreibe Unit-Tests für alle Transformationsschritte, z.B. mit `pytest` und `hypothesis`."
   ]
  },
  {
   "cell_type": "markdown",
   "id": "f370d5e9",
   "metadata": {},
   "source": [
    "**💡 DataFrame = Excel-Tabelle in Python:**\n",
    "- **Zeilen** = einzelne Datensätze (wie Excel-Zeilen)\n",
    "- **Spalten** = Eigenschaften (wie Excel-Spalten)\n",
    "- `df.head()` zeigt die ersten Zeilen.\n",
    "- `df[spaltenname]` wählt eine Spalte aus.\n",
    "- `df[bedingung]` filtert Zeilen."
   ]
  },
  {
   "cell_type": "markdown",
   "id": "1c3a6002",
   "metadata": {},
   "source": [
    "### Matplotlib & Plotly – Diagramme erstellen"
   ]
  },
  {
   "cell_type": "code",
   "execution_count": null,
   "id": "d6c06386",
   "metadata": {},
   "outputs": [],
   "source": [
    "import matplotlib.pyplot as plt\n",
    "import plotly.express as px\n",
    "\n",
    "# Einfaches Balkendiagramm mit Matplotlib\n",
    "plt.figure(figsize=(8, 5))  # Größe festlegen\n",
    "plt.bar(df['Name'], df['Alter'])\n",
    "plt.title('Alter der Personen')\n",
    "plt.xlabel('Name')\n",
    "plt.ylabel('Alter')\n",
    "plt.show()"
   ]
  },
  {
   "cell_type": "markdown",
   "id": "53abc178",
   "metadata": {},
   "source": [
    "### Visualisierung: Advanced Insights & Best Practices\n",
    "\n",
    "- **Plotly vs. Matplotlib:** Plotly ist ideal für interaktive Dashboards und Web-Apps, Matplotlib für statische Publikationen. Kombiniere beide je nach Use Case.\n",
    "- **Performance:** Für große Datenmengen: Downsampling oder Aggregation vor dem Plotten. Plotly kann bei mehr als 10.000 Punkten langsam werden.\n",
    "- **Custom Layouts:** Nutze Subplots, Faceting und eigene Themes für professionelle Visualisierungen.\n",
    "- **Export:** Plotly-Grafiken lassen sich als HTML, SVG oder PNG exportieren – ideal für Berichte und Präsentationen.\n",
    "- **Dashboards:** Für komplexe Dashboards empfiehlt sich Dash (Plotly) oder Streamlit. Achte auf State-Management und User Experience.\n",
    "- **Testing:** Automatisiere Visualisierungs-Tests mit `pytest-mpl` oder Snapshot-Tests für Plotly."
   ]
  },
  {
   "cell_type": "code",
   "execution_count": null,
   "id": "a9e65fc3",
   "metadata": {},
   "outputs": [],
   "source": [
    "# Interaktives Diagramm mit Plotly\n",
    "fig = px.bar(df, x='Name', y='Gehalt', \n",
    "             title='Gehälter der Personen',\n",
    "             color='Stadt')\n",
    "fig.show()"
   ]
  },
  {
   "cell_type": "markdown",
   "id": "b3f8aaa6",
   "metadata": {},
   "source": [
    "### Advanced: Visual Analytics & Dashboard-Design\n",
    "\n",
    "- **User-Interaktion:** Integriere Filter, Drilldowns und dynamische Visualisierungen für explorative Analysen (z.B. mit Plotly Dash oder Streamlit).\n",
    "- **KPI-Visualisierung:** Nutze spezielle Komponenten wie `st.metric` oder Plotly Indicators für Business-Dashboards.\n",
    "- **Accessibility:** Achte auf Farbschemata (Colorblindness), Responsive Design und Tooltips.\n",
    "- **Automatisierung:** Generiere Reports automatisiert mit `nbconvert`, `papermill` oder `reporting`-Libraries."
   ]
  },
  {
   "cell_type": "markdown",
   "id": "e86353fa",
   "metadata": {},
   "source": [
    "**💡 Unterschied:**\n",
    "- **Matplotlib** = Statische Bilder (wie gedruckte Grafiken)\n",
    "- **Plotly** = Interaktive Grafiken (zoomen, Hover-Effekte)\n",
    "- **Für Web-Apps** verwenden wir hauptsächlich Plotly."
   ]
  },
  {
   "cell_type": "markdown",
   "id": "4e678c70",
   "metadata": {},
   "source": [
    "## 🌐 Teil 3: Streamlit – Web-Apps erstellen (60 Minuten)\n",
    "\n",
    "### Was ist Streamlit?\n",
    "**Streamlit** ist eine Python-Bibliothek zum Erstellen von Web-Apps **ohne** HTML/CSS/JavaScript.\n",
    "\n",
    "**Stell dir vor:** Du schreibst normalen Python-Code, und Streamlit macht automatisch eine schöne Website daraus!"
   ]
  },
  {
   "cell_type": "code",
   "execution_count": null,
   "id": "f80478e2",
   "metadata": {},
   "outputs": [],
   "source": [
    "# Streamlit installieren (falls noch nicht geschehen)\n",
    "!pip install streamlit\n",
    "\n",
    "# Prüfen ob Installation funktioniert hat\n",
    "import streamlit as st\n",
    "print(\"✅ Streamlit erfolgreich installiert!\")"
   ]
  },
  {
   "cell_type": "markdown",
   "id": "ce4767bb",
   "metadata": {},
   "source": [
    "---\n",
    "\n",
    "> ⚠️ **WICHTIG: Streamlit-Code läuft NICHT im Notebook!**\n",
    ">\n",
    "> - Kopiere Streamlit-Code immer in eine eigene Datei, z. B. `meine_erste_app.py`.\n",
    "> - Führe die Datei im Terminal aus:\n",
    ">   ```bash\n",
    ">   streamlit run meine_erste_app.py\n",
    ">   ```\n",
    "> - Das Notebook zeigt keine Streamlit-Web-App an!\n",
    ">\n",
    "> **Warum?** Streamlit startet einen eigenen Webserver und öffnet die App im Browser. Im Notebook funktioniert das nicht.\n",
    ">\n",
    "> **Tipp:** Änderungen am Code werden nach dem Speichern automatisch übernommen, solange die App läuft.\n",
    "---"
   ]
  },
  {
   "cell_type": "markdown",
   "id": "451b34af",
   "metadata": {},
   "source": [
    "> ❌ **Häufige Fehlerquelle:**\n",
    "\n",
    "Viele Studierende versuchen, Streamlit-Code direkt im Notebook auszuführen – das funktioniert NICHT!\n",
    "\n",
    "> **Typische Fehlermeldungen:**\n",
    "- `ModuleNotFoundError: No module named 'streamlit'` (obwohl installiert)\n",
    "- Es erscheint keine Web-App, sondern nur eine Textausgabe im Notebook\n",
    "- Streamlit-Befehle wie `st.write()` zeigen keine Wirkung\n",
    "\n",
    "> **Lösung:**\n",
    "- Speichere den Code immer als `.py`-Datei und starte ihn mit `streamlit run` im Terminal.\n",
    "- Notebook-Zellen mit Streamlit-Code dienen nur als Vorlage!\n",
    "\n",
    "> **Troubleshooting:**\n",
    "- Die App startet nicht? Terminal-Ausgabe prüfen und Fehlermeldungen lesen.\n",
    "- Browser öffnet sich nicht? Manuell zu `http://localhost:8501` wechseln.\n",
    "- Änderungen werden nicht übernommen? Datei speichern und Seite neu laden."
   ]
  },
  {
   "cell_type": "markdown",
   "id": "34e65482",
   "metadata": {},
   "source": [
    "### Deine erste Streamlit-App\n",
    "**Wichtig:** Streamlit-Code muss in einer separaten `.py`-Datei stehen, nicht im Notebook!"
   ]
  },
  {
   "cell_type": "code",
   "execution_count": null,
   "id": "c000ff1b",
   "metadata": {},
   "outputs": [],
   "source": [
    "# Beispiel: So könnte deine erste Streamlit-App aussehen (als Python-Datei speichern, z.B. meine_erste_app.py)\n",
    "\n",
    "import streamlit as st\n",
    "import pandas as pd\n",
    "\n",
    "# Titel der App\n",
    "st.title(\"🎉 Meine erste Streamlit App\")\n",
    "st.write(\"Hallo Welt! Das ist meine erste Web-App.\")\n",
    "\n",
    "# Eingabefeld für den Namen\n",
    "name = st.text_input(\"Wie heißt du?\")\n",
    "\n",
    "if name:\n",
    "    st.write(f\"Hallo {name}! Schön dich kennenzulernen! 👋\")\n",
    "\n",
    "# Einfache Daten\n",
    "daten = {\n",
    "    'Obst': ['Apfel', 'Banane', 'Orange'],\n",
    "    'Anzahl': [10, 5, 8]\n",
    "}\n",
    "df = pd.DataFrame(daten)\n",
    "\n",
    "st.subheader(\"Meine Daten:\")\n",
    "st.dataframe(df)  # Zeigt Tabelle an\n",
    "\n",
    "# Einfaches Diagramm\n",
    "st.bar_chart(df.set_index('Obst'))"
   ]
  },
  {
   "cell_type": "markdown",
   "id": "de61a219",
   "metadata": {},
   "source": [
    "### Streamlit für Data Science: Best Practices & Advanced Tipps\n",
    "\n",
    "- **State Management:** Nutze `st.session_state` für komplexe Interaktionen. Achtung: State ist pro User/Session!\n",
    "- **Deployment:** Für produktive Deployments: Docker-Container oder Cloud-Angebote wie Streamlit Cloud, Azure, AWS. Achte auf Secrets-Management.\n",
    "- **Performance:** Große Datenmengen vorab filtern/aggregieren, Caching (`@st.cache_data`) gezielt einsetzen.\n",
    "- **Testing:** Automatisiere UI-Tests mit `pytest` und `streamlit.testing` (ab v1.28).\n",
    "- **Custom Components:** Baue eigene UI-Elemente mit Streamlit Components (React, JS).\n",
    "- **Fehlerquellen:** Viele Probleme entstehen durch das Ausführen von Streamlit-Code im Notebook – immer als `.py`-Datei und mit `streamlit run` starten!"
   ]
  },
  {
   "cell_type": "markdown",
   "id": "b81fbbac",
   "metadata": {},
   "source": [
    "### App ausführen\n",
    "Um deine Streamlit-App zu starten:\n",
    "\n",
    "1. **Terminal öffnen** (in VS Code: Terminal → New Terminal)\n",
    "2. **Befehl eingeben:** `streamlit run meine_erste_app.py`\n",
    "3. **Browser öffnet sich automatisch** mit deiner App!\n",
    "\n",
    "**Was passiert:**\n",
    "- Streamlit startet einen lokalen Webserver\n",
    "- Deine App läuft unter `http://localhost:8501`\n",
    "- Jede Änderung am Code wird automatisch aktualisiert"
   ]
  },
  {
   "cell_type": "markdown",
   "id": "d8a55db7",
   "metadata": {},
   "source": [
    "### Streamlit-Komponenten erklärt"
   ]
  },
  {
   "cell_type": "code",
   "execution_count": null,
   "id": "cbe07a3b",
   "metadata": {},
   "outputs": [],
   "source": [
    "# Weitere Streamlit-Beispiele (als Python-Datei speichern, z.B. streamlit_komponenten.py)\n",
    "\n",
    "import streamlit as st\n",
    "import pandas as pd\n",
    "import numpy as np\n",
    "\n",
    "st.title(\"🧰 Streamlit Komponenten-Übersicht\")\n",
    "\n",
    "# Text-Elemente\n",
    "st.header(\"1. Text-Elemente\")\n",
    "st.subheader(\"Das ist ein Untertitel\")\n",
    "st.write(\"Normaler Text mit **fett** und *kursiv*\")\n",
    "st.markdown(\"### Markdown funktioniert auch!\")\n",
    "\n",
    "# Eingabe-Widgets\n",
    "st.header(\"2. Eingabe-Widgets\")\n",
    "zahl = st.slider(\"Wähle eine Zahl:\", 0, 100, 50)\n",
    "st.write(f\"Du hast {zahl} gewählt\")\n",
    "\n",
    "auswahl = st.selectbox(\"Lieblingsfrucht:\", [\"Apfel\", \"Banane\", \"Orange\"])\n",
    "st.write(f\"Du magst {auswahl}\")\n",
    "\n",
    "# Sidebar (seitliche Leiste)\n",
    "st.sidebar.header(\"Einstellungen\")\n",
    "farbe = st.sidebar.radio(\"Wähle Farbe:\", [\"Rot\", \"Grün\", \"Blau\"])\n",
    "\n",
    "# Daten anzeigen\n",
    "st.header(\"3. Daten-Anzeige\")\n",
    "beispiel_daten = pd.DataFrame({\n",
    "    'x': np.random.randn(50),\n",
    "    'y': np.random.randn(50)\n",
    "})\n",
    "\n",
    "st.line_chart(beispiel_daten)\n",
    "\n",
    "# Spalten-Layout\n",
    "col1, col2 = st.columns(2)\n",
    "with col1:\n",
    "    st.write(\"Linke Spalte\")\n",
    "with col2:\n",
    "    st.write(\"Rechte Spalte\")"
   ]
  },
  {
   "cell_type": "markdown",
   "id": "212f56d1",
   "metadata": {},
   "source": [
    "**💡 Streamlit-Komponenten:**\n",
    "- `st.title()` = Haupttitel\n",
    "- `st.header()` = Überschrift\n",
    "- `st.write()` = Universelle Text- und Datenausgabe\n",
    "- `st.slider()` = Schieberegler für Zahlen\n",
    "- `st.selectbox()` = Dropdown-Menü\n",
    "- `st.sidebar` = Seitenleiste\n",
    "- `st.columns()` = Spalten-Layout"
   ]
  },
  {
   "cell_type": "markdown",
   "id": "09eb5a82",
   "metadata": {},
   "source": [
    "## 🐳 Teil 4: Docker Grundlagen (45 Minuten)\n",
    "\n",
    "### Was ist Docker?\n",
    "**Docker** = Tool um Software in \"Containern\" zu verpacken\n",
    "\n",
    "**Analogie:** Stell dir vor, Docker ist wie ein Versandcontainer:\n",
    "- **Container** = Standardisierte Box mit allem was deine App braucht\n",
    "- **Funktioniert überall:** Auf deinem Laptop, auf Servern, in der Cloud\n",
    "- **Isoliert:** Apps stören sich nicht gegenseitig\n",
    "\n",
    "### Warum Docker für Data Science?\n",
    "- **Reproduzierbarkeit:** Deine App läuft bei jedem gleich\n",
    "- **Einfaches Deployment:** Einmal verpackt, überall ausführen\n",
    "- Keine **\"It works on my machine\"**-Entschuldigungen\n",
    "- **Verschiedene Python-Versionen** parallel nutzen"
   ]
  },
  {
   "cell_type": "markdown",
   "id": "6d22cfaa",
   "metadata": {},
   "source": [
    "### Docker-Begriffe erklärt\n",
    "\n",
    "**🐳 Docker-Container:**\n",
    "- Wie ein virtueller Computer mit deiner App\n",
    "- Enthält: Python, deine Bibliotheken, deinen Code\n",
    "- Läuft isoliert vom Hauptsystem\n",
    "\n",
    "**📋 Dockerfile:**\n",
    "- Rezept zum Bauen eines Containers\n",
    "- Textdatei mit Anweisungen\n",
    "- Wie eine Kochanleitung\n",
    "\n",
    "**🏪 Docker Image:**\n",
    "- Fertig gebauter Container (noch nicht gestartet)\n",
    "- Wie ein Template oder eine Vorlage\n",
    "\n",
    "**🚢 Docker Hub:**\n",
    "- Online-Bibliothek für vorgefertigte Images\n",
    "- Wie der App Store für Container"
   ]
  },
  {
   "cell_type": "code",
   "execution_count": null,
   "id": "5a5fe740",
   "metadata": {},
   "outputs": [],
   "source": [
    "# Beispiel: Dockerfile für unsere Streamlit-App erstellen\n",
    "\n",
    "dockerfile_code = '''\n",
    "# Basis-Image: Python 3.11 auf schlankem Linux\n",
    "FROM python:3.11-slim\n",
    "\n",
    "# Arbeitsverzeichnis im Container festlegen\n",
    "WORKDIR /app\n",
    "\n",
    "# Abhängigkeiten kopieren und installieren\n",
    "COPY requirements.txt .\n",
    "RUN pip install -r requirements.txt\n",
    "\n",
    "# App-Code kopieren\n",
    "COPY . .\n",
    "\n",
    "# Port für Streamlit freigeben\n",
    "EXPOSE 8501\n",
    "\n",
    "# Befehl zum Starten der App\n",
    "CMD [\"streamlit\", \"run\", \"meine_erste_app.py\", \"--server.address\", \"0.0.0.0\"]\n",
    "'''\n",
    "\n",
    "print(dockerfile_code)"
   ]
  },
  {
   "cell_type": "markdown",
   "id": "f6d86f59",
   "metadata": {},
   "source": [
    "### Docker für Data Science: Advanced Workflow & Best Practices\n",
    "\n",
    "- **Multi-Stage-Builds:** Reduziere Image-Größe und Angriffsfläche durch Multi-Stage-Builds im Dockerfile.\n",
    "- **Reproducibility:** Nutze exakte Versionsangaben in `requirements.txt` und dokumentiere Build-Parameter.\n",
    "- **Security:** Verwende möglichst offizielle, minimalistische Base-Images (z.B. `python:3.11-slim`). Führe keine Container als root aus.\n",
    "- **Persistenz:** Volumes für Datenhaltung, Secrets nie ins Image einbauen!\n",
    "- **CI/CD:** Automatisiere Builds und Tests mit GitHub Actions, GitLab CI oder Azure Pipelines.\n",
    "- **Debugging:** Nutze `docker exec` für interaktives Debugging im laufenden Container."
   ]
  },
  {
   "cell_type": "markdown",
   "id": "efc4ba02",
   "metadata": {},
   "source": [
    "**💡 Dockerfile erklärt:**\n",
    "- `FROM python:3.11-slim` = Basis: Python 3.11 (schlank)\n",
    "- `WORKDIR /app` = Arbeitsordner im Container\n",
    "- `COPY requirements.txt .` = Kopiere Abhängigkeits-Liste\n",
    "- `RUN pip install -r requirements.txt` = Installiere Python-Pakete\n",
    "- `COPY . .` = Kopiere allen Code in Container\n",
    "- `EXPOSE 8501` = Öffne Port 8501 (Streamlit-Standard)\n",
    "- `CMD [...]` = Befehl beim Container-Start"
   ]
  },
  {
   "cell_type": "code",
   "execution_count": null,
   "id": "42c5d957",
   "metadata": {},
   "outputs": [],
   "source": [
    "# Requirements-Datei für Docker erstellen\n",
    "\n",
    "requirements_code = '''\n",
    "streamlit==1.25.0\n",
    "pandas==2.0.3\n",
    "plotly==5.15.0\n",
    "numpy==1.24.3\n",
    "'''\n",
    "\n",
    "print(requirements_code)"
   ]
  },
  {
   "cell_type": "markdown",
   "id": "2ae8e9a4",
   "metadata": {},
   "source": [
    "### Docker-Befehle (wichtigste)\n",
    "\n",
    "**In der Praxis nutzt du diese Befehle im Terminal:**\n",
    "\n",
    "```bash\n",
    "# Container bauen (aus Dockerfile)\n",
    "docker build -t meine-streamlit-app .\n",
    "\n",
    "# Container starten\n",
    "docker run -p 8501:8501 meine-streamlit-app\n",
    "\n",
    "# Laufende Container anzeigen\n",
    "docker ps\n",
    "\n",
    "# Container stoppen\n",
    "docker stop [container-id]\n",
    "\n",
    "# Alle Images anzeigen\n",
    "docker images\n",
    "```\n",
    "\n",
    "**💡 Erklärung:**\n",
    "- `-t meine-streamlit-app` = Tag (Name) für das Image\n",
    "- `-p 8501:8501` = Port-Weiterleitung (extern:intern)\n",
    "- `.` = Aktuelles Verzeichnis für Build verwenden"
   ]
  },
  {
   "cell_type": "markdown",
   "id": "6bc5b17b",
   "metadata": {},
   "source": [
    "### Docker Compose - Mehrere Container verwalten\n",
    "\n",
    "**Docker Compose** = Tool um mehrere Container gleichzeitig zu starten\n",
    "\n",
    "**Beispiel:** Deine App braucht:\n",
    "- Container 1: Streamlit-App\n",
    "- Container 2: Datenbank\n",
    "- Container 3: Machine Learning API\n",
    "\n",
    "Statt jeden einzeln zu starten → Docker Compose macht alles auf einmal"
   ]
  },
  {
   "cell_type": "code",
   "execution_count": null,
   "id": "6bd4bd61",
   "metadata": {},
   "outputs": [],
   "source": [
    "# Docker Compose Konfiguration\n",
    "\n",
    "compose_code = '''\n",
    "version: '3.8'\n",
    "\n",
    "services:\n",
    "  # Unsere Streamlit App\n",
    "  streamlit-app:\n",
    "    build: .                    # Baue aus lokalem Dockerfile\n",
    "    ports:\n",
    "      - \"8501:8501\"            # Port-Weiterleitung\n",
    "    volumes:\n",
    "      - ./data:/app/data       # Datenordner verbinden\n",
    "    \n",
    "  # Jupyter für Entwicklung\n",
    "  jupyter:\n",
    "    image: jupyter/datascience-notebook\n",
    "    ports:\n",
    "      - \"8888:8888\"\n",
    "    volumes:\n",
    "      - ./notebooks:/home/jovyan/work\n",
    "    environment:\n",
    "      - JUPYTER_TOKEN=mein-geheimes-token\n",
    "'''\n",
    "\n",
    "print(compose_code)"
   ]
  },
  {
   "cell_type": "markdown",
   "id": "6894d3f4",
   "metadata": {},
   "source": [
    "### Advanced: Orchestrierung, Monitoring & Production-Readiness\n",
    "\n",
    "- **Orchestrierung:** Nutze Kubernetes oder Docker Swarm für skalierbare Multi-Container-Deployments. Automatisiere Healthchecks und Rolling Updates.\n",
    "- **Monitoring:** Integriere Prometheus, Grafana oder ELK-Stack für Logging und Monitoring von Containern und Services.\n",
    "- **Production-Readiness:** Implementiere automatisierte Tests, Security-Scans (z.B. Trivy), Secrets-Management (z.B. Vault) und automatisches Rebuild bei neuen Base-Images.\n",
    "- **Zero Downtime:** Setze Blue/Green- oder Canary-Deployments für unterbrechungsfreie Updates ein."
   ]
  },
  {
   "cell_type": "markdown",
   "id": "7143f254",
   "metadata": {},
   "source": [
    "**Docker Compose Befehle:**\n",
    "```bash\n",
    "# Alle Services starten\n",
    "docker-compose up -d\n",
    "\n",
    "# Services stoppen\n",
    "docker-compose down\n",
    "\n",
    "# Nur bestimmten Service starten\n",
    "docker-compose up streamlit-app\n",
    "\n",
    "# Logs anschauen\n",
    "docker-compose logs\n",
    "```\n",
    "\n",
    "**💡 Warum Docker Compose?**\n",
    "- **Ein Befehl** startet die gesamte Umgebung\n",
    "- **Konfiguration in Datei** gespeichert\n",
    "- **Services können miteinander kommunizieren**\n",
    "- **Perfekt für Entwicklung und Deployment**"
   ]
  },
  {
   "cell_type": "markdown",
   "id": "b07115dc",
   "metadata": {},
   "source": [
    "## 🎯 Teil 5: Zusammenfassung & Nächste Schritte (20 Minuten)\n",
    "\n",
    "### Was du heute gelernt hast:\n",
    "\n",
    "#### 🐍 **Python Grundlagen:**\n",
    "- **Variablen:** `name = \"Anna\"`\n",
    "- **Listen:** `[1, 2, 3]`\n",
    "- **Schleifen:** `for item in liste:`\n",
    "- **Bedingungen:** `if alter >= 18:`\n",
    "\n",
    "#### 📊 **Data Science Libraries:**\n",
    "- **Pandas:** Excel-Tabellen in Python (`pd.DataFrame`)\n",
    "- **Matplotlib/Plotly:** Diagramme erstellen\n",
    "- **Streamlit:** Web-Apps ohne HTML/CSS\n",
    "\n",
    "#### 🐳 **Docker:**\n",
    "- **Container:** Verpacke deine App mit allen Abhängigkeiten\n",
    "- **Dockerfile:** Rezept zum Bauen\n",
    "- **Docker Compose:** Mehrere Container verwalten\n",
    "\n",
    "#### 🌐 **Streamlit:**\n",
    "- **Web-Apps** aus Python-Code\n",
    "- **Interaktive Widgets:** Slider, Selectboxes\n",
    "- **Automatisches Update** bei Code-Änderungen"
   ]
  },
  {
   "cell_type": "markdown",
   "id": "887a0d57",
   "metadata": {},
   "source": [
    "### Nächste Schritte für den Kurs:\n",
    "\n",
    "#### **Woche 1:** Streamlit-Apps entwickeln\n",
    "- Datenanalyse-Apps bauen\n",
    "- Verschiedene Visualisierungen\n",
    "- Interaktive Filter und Widgets\n",
    "\n",
    "#### **Woche 2:** Machine Learning integrieren  \n",
    "- Erste ML-Modelle trainieren\n",
    "- Vorhersagen in der App machen\n",
    "- Modell-Performance visualisieren\n",
    "\n",
    "#### **Woche 3-6:** Fortgeschrittene Features\n",
    "- Apps online deployen\n",
    "- Deep Learning einbauen\n",
    "- Eigene Fallstudie entwickeln\n",
    "\n",
    "### Dein Endprodukt:\n",
    "Eine **vollständige ML-Web-App** die du:\n",
    "- **Live demonstrieren** kannst\n",
    "- **Online verfügbar** machst\n",
    "- **Als Fallstudie präsentierst**"
   ]
  },
  {
   "cell_type": "markdown",
   "id": "ca41d475",
   "metadata": {},
   "source": [
    "## 🏆 Quiz: Teste dein Wissen!\n",
    "\n",
    "### Frage 1: Python Basics\n",
    "Was gibt dieser Code aus?\n",
    "```python\n",
    "alter = 25\n",
    "if alter >= 18:\n",
    "    print(\"Erwachsen\")\n",
    "else:\n",
    "    print(\"Kind\")\n",
    "```\n",
    "\n",
    "### Frage 2: Pandas\n",
    "Wie wählst du die Spalte \"Name\" aus einem DataFrame `df` aus?\n",
    "\n",
    "### Frage 3: Streamlit\n",
    "Welcher Befehl startet eine Streamlit-App?\n",
    "\n",
    "### Frage 4: Docker\n",
    "Was ist der Unterschied zwischen einem Image und einem Container?\n",
    "\n",
    "**💡 Antworten findest du in den Code-Beispielen oben!**"
   ]
  },
  {
   "cell_type": "markdown",
   "id": "67924f2e",
   "metadata": {},
   "source": [
    "## 🔧 Praktische Übung: Deine erste vollständige App\n",
    "\n",
    "**Aufgabe:** Erstelle eine Streamlit-App die:\n",
    "\n",
    "1. **Daten einliest** (CSV oder erstellt eigene)\n",
    "2. **Filter-Optionen** in der Sidebar hat\n",
    "3. **Verschiedene Visualisierungen** zeigt\n",
    "4. **Zusammenfassung/Statistiken** anzeigt\n",
    "\n",
    "### Template zum Starten:"
   ]
  },
  {
   "cell_type": "code",
   "execution_count": null,
   "id": "982188ed",
   "metadata": {},
   "outputs": [],
   "source": [
    "%%writefile uebungs_app.py\n",
    "\n",
    "import streamlit as st\n",
    "import pandas as pd\n",
    "import plotly.express as px\n",
    "\n",
    "# App-Titel\n",
    "st.title(\"📊 Meine Data Analytics & Big Data App\")\n",
    "st.write(\"Von: [Dein Name hier]\")\n",
    "\n",
    "# Beispieldaten erstellen\n",
    "daten = {\n",
    "    'Produkt': ['Laptop', 'Handy', 'Tablet', 'Kopfhörer', 'Maus'],\n",
    "    'Preis': [800, 600, 400, 100, 25],\n",
    "    'Kategorie': ['Computer', 'Telefon', 'Computer', 'Audio', 'Computer'],\n",
    "    'Bewertung': [4.5, 4.2, 4.0, 4.8, 3.9]\n",
    "}\n",
    "\n",
    "df = pd.DataFrame(daten)\n",
    "\n",
    "# Sidebar für Filter\n",
    "st.sidebar.header(\"🔍 Filter\")\n",
    "kategorie_filter = st.sidebar.selectbox(\n",
    "    \"Kategorie wählen:\",\n",
    "    [\"Alle\"] + list(df['Kategorie'].unique())\n",
    ")\n",
    "\n",
    "# Daten filtern\n",
    "if kategorie_filter != \"Alle\":\n",
    "    gefilterte_daten = df[df['Kategorie'] == kategorie_filter]\n",
    "else:\n",
    "    gefilterte_daten = df\n",
    "\n",
    "# Hauptbereich\n",
    "st.subheader(\"🛍️ Produktdaten\")\n",
    "st.dataframe(gefilterte_daten)\n",
    "\n",
    "# Visualisierungen\n",
    "col1, col2 = st.columns(2)\n",
    "\n",
    "with col1:\n",
    "    fig1 = px.bar(gefilterte_daten, x='Produkt', y='Preis', \n",
    "                  title=\"Preise nach Produkt\")\n",
    "    st.plotly_chart(fig1, use_container_width=True)\n",
    "\n",
    "with col2:\n",
    "    fig2 = px.scatter(gefilterte_daten, x='Preis', y='Bewertung',\n",
    "                     color='Kategorie', title=\"Preis vs. Bewertung\")\n",
    "    st.plotly_chart(fig2, use_container_width=True)\n",
    "\n",
    "# Statistiken\n",
    "st.subheader(\"📈 Zusammenfassung\")\n",
    "col1, col2, col3 = st.columns(3)\n",
    "\n",
    "with col1:\n",
    "    st.metric(\"Anzahl Produkte\", len(gefilterte_daten))\n",
    "with col2:\n",
    "    st.metric(\"Durchschnittspreis\", f\"{gefilterte_daten['Preis'].mean():.0f}€\")\n",
    "with col3:\n",
    "    st.metric(\"Beste Bewertung\", f\"{gefilterte_daten['Bewertung'].max()}\")\n",
    "\n",
    "# TODO: Erweitere die App nach deinen Ideen!\n",
    "st.info(\"💡 Ideen zum Erweitern: Mehr Filter, andere Diagramme, Daten-Upload...\")"
   ]
  },
  {
   "cell_type": "markdown",
   "id": "e3a53480",
   "metadata": {},
   "source": [
    "## 🎉 Herzlichen Glückwunsch!\n",
    "\n",
    "Du hast erfolgreich die **Python-Grundlagen für Data Science** gelernt!\n",
    "\n",
    "**Du kannst jetzt:**\n",
    "- ✅ Python-Code schreiben und verstehen\n",
    "- ✅ Mit Pandas Daten analysieren\n",
    "- ✅ Streamlit-Apps erstellen\n",
    "- ✅ Docker-Konzepte verstehen\n",
    "- ✅ Deine erste interaktive Web-App bauen\n",
    "\n",
    "**Nächste Woche** geht es weiter mit Machine Learning in Streamlit-Apps! 🚀\n",
    "\n",
    "---\n",
    "\n",
    "**💡 Tipp:** Nutze diese Datei als Nachschlagewerk – du wirst die Konzepte immer wieder brauchen!"
   ]
  }
 ],
 "metadata": {
  "language_info": {
   "name": "python"
  }
 },
 "nbformat": 4,
 "nbformat_minor": 5
}
