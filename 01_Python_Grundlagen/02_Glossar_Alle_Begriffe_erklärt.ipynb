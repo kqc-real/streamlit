{
 "cells": [
  {
   "cell_type": "markdown",
   "id": "0c513dd0",
   "metadata": {},
   "source": [
    "# 📚 Glossar: Alle Begriffe & Abkürzungen erklärt\n",
    " \n",
    "> 🚀 **Motivation:**\n",
    "> \n",
    "> Dieses Glossar ist dein persönlicher Spickzettel für den gesamten Kurs! Egal ob im Unterricht, bei Übungen oder im Projekt – hier findest du schnell und verständlich alle wichtigen Begriffe, Abkürzungen und Tools erklärt.\n",
    " \n",
    "**Dein Nachschlagewerk für den gesamten Kurs**\n",
    " \n",
    "Nutze dieses Glossar, um jederzeit schnell Begriffe, Abkürzungen und Tools nachzuschlagen. Du findest hier kompakte Erklärungen, Beispiele und praktische Tipps – egal ob im Unterricht, bei Übungen oder in Projekten.\n",
    "\n",
    "> 💡 **Tipp:** Mit `Strg+F` (Windows) oder `Cmd+F` (Mac) kannst du gezielt nach Begriffen suchen!\n",
    "\n",
    "> 📚 **Extra:** Du vermisst einen Begriff? Sag im Kurs oder im Forum Bescheid – das Glossar wächst mit deinen Fragen!\n",
    " \n",
    "---"
   ]
  },
  {
   "cell_type": "markdown",
   "id": "2f4aacab",
   "metadata": {},
   "source": [
    "## 🐍 Python Grundlagen\n",
    "\n",
    "| Begriff | Abkürzung | Erklärung | Beispiel |\n",
    "|---------|-----------|-----------|----------|\n",
    "| **Python** | - | Programmiersprache für Data Science | `print(\"Hello World\")` |\n",
    "| **IPython** | - | Interaktive Python-Shell | Jupyter Notebooks verwenden IPython |\n",
    "| **Anaconda** | - | Python-Distribution mit vielen Paketen | Enthält Jupyter, pandas, etc. |\n",
    "| **pip** | - | Python Package Installer | `pip install streamlit` |\n",
    "| **venv** | - | Virtual Environment (isolierte Python-Umgebung) | `python -m venv myenv` |\n",
    "| **IDE** | - | Integrated Development Environment | VS Code, PyCharm |\n",
    "| **Jupyter** | - | Interaktive Notebook-Umgebung | Für Datenanalyse und Prototyping |"
   ]
  },
  {
   "cell_type": "markdown",
   "id": "92bbce82",
   "metadata": {},
   "source": [
    "## 📊 Data Science Pakete\n",
    "\n",
    "| Paket | Zweck | Wichtigste Funktionen | Import |\n",
    "|-------|-------|----------------------|--------|\n",
    "| **pandas** | Datenmanipulation | DataFrames, CSV lesen/schreiben | `import pandas as pd` |\n",
    "| **numpy** | Numerische Berechnungen | Arrays, mathematische Funktionen | `import numpy as np` |\n",
    "| **matplotlib** | Basis-Plotting | Diagramme erstellen | `import matplotlib.pyplot as plt` |\n",
    "| **seaborn** | Statistische Plots | Schöne Datenvisualisierung | `import seaborn as sns` |\n",
    "| **plotly** | Interaktive Plots | Web-taugliche Diagramme | `import plotly.express as px` |\n",
    "| **scipy** | Wissenschaftliches Rechnen | Statistik, Optimierung | `import scipy.stats as stats` |"
   ]
  },
  {
   "cell_type": "markdown",
   "id": "0af3131b",
   "metadata": {},
   "source": [
    "## 🤖 Machine Learning\n",
    "\n",
    "### Algorithmen & Begriffe\n",
    "\n",
    "| Begriff | Abkürzung | Erklärung | Anwendung |\n",
    "|---------|-----------|-----------|----------|\n",
    "| **Machine Learning** | ML | Computer lernen aus Daten | Vorhersagen treffen |\n",
    "| **Artificial Intelligence** | AI/KI | Computersysteme mit menschenähnlicher Intelligenz | Spracherkennung, Bildanalyse |\n",
    "| **Deep Learning** | DL | ML mit künstlichen neuronalen Netzen | Bilderkennung, NLP |\n",
    "| **Neural Network** | NN | Gehirn-inspiriertes Rechenmodell | Muster in komplexen Daten |\n",
    "| **Natural Language Processing** | NLP | Verarbeitung menschlicher Sprache | Textanalyse, Übersetzung |\n",
    "| **Computer Vision** | CV | Bildanalyse und -verständnis | Objekterkennung |\n",
    "\n",
    "### Algorithmus-Typen\n",
    "\n",
    "| Algorithmus | Typ | Zweck | Beispiel |\n",
    "|-------------|-----|-------|----------|\n",
    "| **Linear Regression** | Supervised | Zahlen vorhersagen | Hauspreis schätzen |\n",
    "| **Logistic Regression** | Supervised | Kategorien vorhersagen | E-Mail: Spam oder nicht? |\n",
    "| **Decision Tree** | Supervised | Entscheidungen modellieren | Kredit genehmigen? |\n",
    "| **Random Forest** | Supervised | Viele Entscheidungsbäume | Robuste Vorhersagen |\n",
    "| **K-Means** | Unsupervised | Gruppen finden | Kundensegmentierung |\n",
    "| **K-Nearest Neighbors** | KNN | Ähnlichkeit nutzen | Empfehlungssysteme |"
   ]
  },
  {
   "cell_type": "markdown",
   "id": "ef694156",
   "metadata": {},
   "source": [
    "## 📦 ML-Bibliotheken\n",
    "\n",
    "| Bibliothek | Zweck | Stärken | Import |\n",
    "|------------|-------|---------|--------|\n",
    "| **scikit-learn** | Klassisches ML | Einfach zu verwenden, gut dokumentiert | `from sklearn import ...` |\n",
    "| **TensorFlow** | Deep Learning | Google-entwickelt, sehr mächtig | `import tensorflow as tf` |\n",
    "| **PyTorch** | Deep Learning | Facebook-entwickelt, flexibel | `import torch` |\n",
    "| **Keras** | Deep Learning | High-Level API für TensorFlow | `from tensorflow import keras` |\n",
    "| **XGBoost** | Gradient Boosting | Sehr gute Performance bei tabellarischen Daten | `import xgboost as xgb` |\n",
    "| **LightGBM** | Gradient Boosting | Schnell und speichereffizient | `import lightgbm as lgb` |"
   ]
  },
  {
   "cell_type": "markdown",
   "id": "8248c955",
   "metadata": {},
   "source": [
    "## 🌐 Web-Entwicklung\n",
    "\n",
    "| Begriff | Zweck | Rolle in unserem Kurs |\n",
    "|---------|-------|----------------------|\n",
    "| **Streamlit** | Python Web-Apps | Haupttool für unsere ML-Apps |\n",
    "| **Flask** | Web-Framework | Alternative zu Streamlit |\n",
    "| **FastAPI** | API-Framework | Für REST APIs |\n",
    "| **HTML** | Markup-Sprache | Grundlage jeder Webseite |\n",
    "| **CSS** | Styling | Design und Layout |\n",
    "| **JavaScript** | Frontend-Programmierung | Interaktivität im Browser |\n",
    "| **REST API** | Schnittstelle | Daten zwischen Systemen austauschen |\n",
    "| **JSON** | Datenformat | Leichtgewichtiger Datenaustausch |"
   ]
  },
  {
   "cell_type": "markdown",
   "id": "ff5f078a",
   "metadata": {},
   "source": [
    "## ☁️ Cloud & Deployment\n",
    "\n",
    "| Service | Anbieter | Zweck | Kosten |\n",
    "|---------|----------|-------|--------|\n",
    "| **Streamlit Cloud** | Streamlit | Streamlit-Apps hosten | Kostenlos für öffentliche Apps |\n",
    "| **Heroku** | Salesforce | Allgemeine App-Plattform | Begrenzte kostenlose Stufe |\n",
    "| **AWS** | Amazon | Vollständige Cloud-Plattform | Pay-per-use |\n",
    "| **Google Cloud** | Google | Cloud-Services | Kostenlose Stufe verfügbar |\n",
    "| **Azure** | Microsoft | Microsoft Cloud | Student-Rabatte |\n",
    "| **GitHub Pages** | GitHub | Statische Websites | Kostenlos |\n",
    "| **Colab** | Google | Kostenlose Jupyter Notebooks | Kostenlos mit GPU! |"
   ]
  },
  {
   "cell_type": "markdown",
   "id": "b17e09ae",
   "metadata": {},
   "source": [
    "## 🐳 DevOps & Tools\n",
    "\n",
    "| Tool | Zweck | Warum wichtig? |\n",
    "|------|-------|---------------|\n",
    "| **Docker** | Containerisierung | Einheitliche Umgebungen |\n",
    "| **Git** | Versionskontrolle | Code-Änderungen verfolgen |\n",
    "| **GitHub** | Code-Hosting | Zusammenarbeit und Backup |\n",
    "| **GitLab** | DevOps-Plattform | Alternative zu GitHub |\n",
    "| **VS Code** | Code-Editor | Bester Editor für Python |\n",
    "| **Conda** | Paket-Manager | Alternative zu pip |\n",
    "| **MLflow** | ML-Lifecycle | Experimente verfolgen |\n",
    "| **DVC** | Data Version Control | Datensätze versionieren |"
   ]
  },
  {
   "cell_type": "markdown",
   "id": "0b7c26d8",
   "metadata": {},
   "source": [
    "## 📊 Datenformate & Datenbanken\n",
    "\n",
    "| Format | Erweiterung | Zweck | Pandas-Befehl |\n",
    "|--------|-------------|-------|---------------|\n",
    "| **CSV** | .csv | Einfache Tabellen | `pd.read_csv()` |\n",
    "| **Excel** | .xlsx | Spreadsheets | `pd.read_excel()` |\n",
    "| **JSON** | .json | Strukturierte Daten | `pd.read_json()` |\n",
    "| **Parquet** | .parquet | Komprimierte Spalten | `pd.read_parquet()` |\n",
    "| **SQL** | .sql | Datenbankabfragen | `pd.read_sql()` |\n",
    "| **HDF5** | .h5 | Große Datensätze | `pd.read_hdf()` |\n",
    "\n",
    "### Datenbanken\n",
    "\n",
    "| Typ | Beispiele | Verwendung |\n",
    "|-----|-----------|------------|\n",
    "| **SQL** | PostgreSQL, MySQL | Strukturierte Daten |\n",
    "| **NoSQL** | MongoDB | Dokumente und JSON |\n",
    "| **Big Data** | Hadoop, Spark | Riesige Datensätze |"
   ]
  },
  {
   "cell_type": "markdown",
   "id": "019ccc71",
   "metadata": {},
   "source": [
    "## 🔄 ML-Workflow Begriffe\n",
    "\n",
    "| Begriff | Erklärung | Beispiel |\n",
    "|---------|-----------|----------|\n",
    "| **EDA** | Exploratory Data Analysis | Daten verstehen und visualisieren |\n",
    "| **Feature Engineering** | Merkmals-Erstellung | Neue Spalten aus bestehenden Daten |\n",
    "| **Training** | Modell lernen lassen | `model.fit(X_train, y_train)` |\n",
    "| **Validation** | Modell testen | `model.score(X_test, y_test)` |\n",
    "| **Cross-Validation** | Mehrfach-Validierung | Robuste Modell-Bewertung |\n",
    "| **Hyperparameter** | Modell-Einstellungen | Learning Rate, Anzahl Bäume |\n",
    "| **Overfitting** | Modell lernt Trainingsdaten auswendig | Schlechte Performance auf neuen Daten |\n",
    "| **Underfitting** | Modell ist zu einfach | Kann auch Trainingsdaten nicht gut vorhersagen |"
   ]
  },
  {
   "cell_type": "markdown",
   "id": "0349b17d",
   "metadata": {},
   "source": [
    "## 📈 Evaluation Metriken\n",
    "\n",
    "### Klassifikation (Kategorien vorhersagen)\n",
    "\n",
    "| Metrik | Formel | Wann verwenden? |\n",
    "|--------|--------|----------------|\n",
    "| **Accuracy** | (TP+TN)/(TP+TN+FP+FN) | Ausgewogene Datensätze |\n",
    "| **Precision** | TP/(TP+FP) | Falsch-Positive vermeiden |\n",
    "| **Recall** | TP/(TP+FN) | Alle Positive finden |\n",
    "| **F1-Score** | 2×(Precision×Recall)/(Precision+Recall) | Balance zwischen Precision und Recall |\n",
    "| **AUC-ROC** | Area Under Curve | Ranking-Qualität |\n",
    "\n",
    "**Legende**: TP=True Positive, TN=True Negative, FP=False Positive, FN=False Negative\n",
    "\n",
    "### Regression (Zahlen vorhersagen)\n",
    "\n",
    "| Metrik | Bedeutung | Einheit |\n",
    "|--------|-----------|--------|\n",
    "| **MAE** | Mean Absolute Error | Durchschnittlicher absoluter Fehler |\n",
    "| **MSE** | Mean Squared Error | Durchschnittlicher quadratischer Fehler |\n",
    "| **RMSE** | Root Mean Squared Error | Wurzel aus MSE |\n",
    "| **R²** | Coefficient of Determination | Anteil erklärter Varianz (0-1) |"
   ]
  },
  {
   "cell_type": "markdown",
   "id": "b6f88efb",
   "metadata": {},
   "source": [
    "## 🎯 Streamlit-spezifische Begriffe\n",
    "\n",
    "| Begriff | Funktion | Beispiel |\n",
    "|---------|----------|----------|\n",
    "| **Widget** | Interaktives Element | `st.slider()`, `st.button()` |\n",
    "| **Sidebar** | Seitliche Navigation | `st.sidebar.selectbox()` |\n",
    "| **Cache** | Daten zwischenspeichern | `@st.cache_data` |\n",
    "| **Session State** | Zustand zwischen Reruns | `st.session_state.counter` |\n",
    "| **Columns** | Layout in Spalten | `col1, col2 = st.columns(2)` |\n",
    "| **Tabs** | Registerkarten | `tab1, tab2 = st.tabs(['A', 'B'])` |\n",
    "| **Rerun** | App neu ausführen | Passiert bei jedem Widget-Input |"
   ]
  },
  {
   "cell_type": "markdown",
   "id": "709b4a45",
   "metadata": {},
   "source": [
    "## 🔍 Häufige Fehler & Lösungen\n",
    "\n",
    "| Fehlermeldung | Problem | Lösung |\n",
    "|---------------|---------|--------|\n",
    "| `ModuleNotFoundError` | Paket nicht installiert | `pip install paketname` |\n",
    "| `KeyError` | Spalte existiert nicht | DataFrame-Spalten prüfen |\n",
    "| `IndexError` | Index außerhalb des Bereichs | List/Array-Länge prüfen |\n",
    "| `ValueError` | Falscher Datentyp | Datentyp konvertieren |\n",
    "| `FileNotFoundError` | Datei nicht gefunden | Pfad korrigieren |\n",
    "| `MemoryError` | Zu wenig RAM | Kleinere Datensätze verwenden |\n",
    "| `StreamlitAPIException` | Streamlit-Problem | `streamlit run` neu starten |"
   ]
  },
  {
   "cell_type": "markdown",
   "id": "0fea552e",
   "metadata": {},
   "source": [
    "## 🚀 Nützliche Abkürzungen & Tastenkürzel\n",
    "\n",
    "### Jupyter Notebooks\n",
    "- **Shift + Enter**: Zelle ausführen und zur nächsten\n",
    "- **Ctrl + Enter**: Zelle ausführen (bleiben)\n",
    "- **A**: Neue Zelle oberhalb\n",
    "- **B**: Neue Zelle unterhalb\n",
    "- **M**: Zu Markdown ändern\n",
    "- **Y**: Zu Code ändern\n",
    "- **DD**: Zelle löschen\n",
    "\n",
    "### Pandas Abkürzungen\n",
    "- **df**: DataFrame (Standard-Name)\n",
    "- **s**: Series (Standard-Name)\n",
    "- **head()**: Erste 5 Zeilen\n",
    "- **tail()**: Letzte 5 Zeilen\n",
    "- **info()**: DataFrame-Informationen\n",
    "- **describe()**: Statistische Zusammenfassung"
   ]
  },
  {
   "cell_type": "markdown",
   "id": "47fcf4bd",
   "metadata": {},
   "source": [
    "## 📚 Weiterführende Ressourcen\n",
    "\n",
    "### Offizielle Dokumentationen\n",
    "- [Python](https://docs.python.org/3/)\n",
    "- [Pandas](https://pandas.pydata.org/docs/)\n",
    "- [Streamlit](https://docs.streamlit.io/)\n",
    "- [Scikit-learn](https://scikit-learn.org/stable/)\n",
    "- [Docker](https://docs.docker.com/)\n",
    "\n",
    "### Tutorials & Kurse\n",
    "- [Kaggle Learn](https://www.kaggle.com/learn) - Kostenlose ML-Kurse\n",
    "- [Streamlit Gallery](https://streamlit.io/gallery) - Inspiration für Apps\n",
    "- [Python for Data Science Handbook](https://jakevdp.github.io/PythonDataScienceHandbook/) - Kostenloses Buch\n",
    "\n",
    "### Communities\n",
    "- [Stack Overflow](https://stackoverflow.com/) - Für alle Programming-Fragen\n",
    "- [Reddit r/MachineLearning](https://www.reddit.com/r/MachineLearning/)\n",
    "- [Streamlit Community](https://discuss.streamlit.io/)\n",
    "\n",
    "---\n"
   ]
  }
 ],
 "metadata": {
  "language_info": {
   "name": "python"
  }
 },
 "nbformat": 4,
 "nbformat_minor": 5
}
