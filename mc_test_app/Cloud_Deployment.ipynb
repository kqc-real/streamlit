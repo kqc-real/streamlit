{
 "cells": [
  {
   "cell_type": "markdown",
   "id": "30d5befd",
   "metadata": {},
   "source": [
    "# Cloud Deployment (Kurzfassung)\n",
    "\n",
    "Dieses Notebook wurde vereinfacht: Alle aktuellen Hinweise zum Deployment, CI und Betrieb findest du zentral in der `README.md` im gleichen Ordner.\n",
    "\n",
    "## Warum entfernt?\n",
    "- Doppelter Pflegeaufwand\n",
    "- README ist für GitHub-Besucher sofort sichtbar\n",
    "- Ein einziger Wahrheitsanker für den Einzeiler-Subtree-Deploy\n",
    "\n",
    "## Was tun?\n",
    "Siehe Abschnitt \"Deployment\" in `README.md`:\n",
    "\n",
    "```\n",
    "git subtree push --prefix mc_test_app github main\n",
    "```\n",
    "\n",
    "Optional kannst du dieses Notebook komplett löschen, wenn keine weiteren Notizen geplant sind.\n"
   ]
  }
 ],
 "metadata": {
  "language_info": {
   "name": "python"
  }
 },
 "nbformat": 4,
 "nbformat_minor": 5
}
