{
 "cells": [
  {
   "cell_type": "code",
   "execution_count": 1,
   "metadata": {},
   "outputs": [
    {
     "name": "stdout",
     "output_type": "stream",
     "text": [
      "zsh:1: command not found: wget\n",
      "zsh:1: command not found: wget\n",
      "zsh:1: command not found: wget\n"
     ]
    }
   ],
   "source": [
    "# Diese Zelle ist speziell für Google Colab!\n",
    "# Wenn du dieses Notebook in Colab öffnest, führe diese Zelle aus,\n",
    "# um alle notwendigen Pakete zu installieren und die Datensätze herunterzuladen.\n",
    "# Lokal (z.B. in VS Code) ist das normalerweise nicht nötig, wenn du die Schritte\n",
    "# aus \"0 Installation und FAQ.md\" befolgt und die requirements.txt installiert hast.\n",
    "\n",
    "# [Nur Colab] Diese Zellen müssen nur auf *Google Colab* ausgeführt werden und installieren Packete und Daten\n",
    "!wget -q https://raw.githubusercontent.com/KI-Campus/AMALEA/master/requirements.txt && pip install --quiet -r requirements.txt\n",
    "!wget --quiet \"https://github.com/KI-Campus/AMALEA/releases/download/data/data.zip\" && unzip -q data.zip"
   ]
  },
  {
   "cell_type": "markdown",
   "metadata": {},
   "source": [
    "# Sherlock Pandas und Data Watson"
   ]
  },
  {
   "cell_type": "markdown",
   "metadata": {},
   "source": [
    "## Daten verstehen mit deskriptiver Statistik\n",
    "\n",
    "Nachdem ihr jetzt wisst, wie man Daten lädt, wollen wir euch ein paar coole Werkzeuge zeigen, mit denen ihr euch einen schnellen Überblick über eure Datenschätze verschaffen könnt. Das hilft euch zu entscheiden, wie ihr das Beste aus ihnen herausholt!\n",
    " \n",
    "Ihr könntet die Daten natürlich in Excel & Co. beäugen, aber hey, wir sind Data Scientists und nutzen Pandas! Ein DataFrame in Pandas hat die super praktische Methode `.head()`, mit der ihr direkt mal einen Blick auf die ersten paar Zeilen eurer Rohdaten werfen könnt. Das ist wie ein erster Händedruck mit euren Daten.\n",
    "\n",
    "<div class=\"alert alert-block alert-success\">\n",
    "<b>Aufgabe 1.3.1:</b> Zeig mal her! Schreibe Code, der die ersten 20 Zeilen des geladenen Datensatzes ausgibt. Du kannst dafür direkt das `data`-Objekt verwenden.\n",
    "</div>"
   ]
  },
  {
   "cell_type": "code",
   "execution_count": 2,
   "metadata": {},
   "outputs": [
    {
     "ename": "ModuleNotFoundError",
     "evalue": "No module named 'pandas'",
     "output_type": "error",
     "traceback": [
      "\u001b[0;31m---------------------------------------------------------------------------\u001b[0m",
      "\u001b[0;31mModuleNotFoundError\u001b[0m                       Traceback (most recent call last)",
      "Cell \u001b[0;32mIn[2], line 1\u001b[0m\n\u001b[0;32m----> 1\u001b[0m \u001b[38;5;28;01mfrom\u001b[39;00m\u001b[38;5;250m \u001b[39m\u001b[38;5;21;01mpandas\u001b[39;00m\u001b[38;5;250m \u001b[39m\u001b[38;5;28;01mimport\u001b[39;00m read_csv\n\u001b[1;32m      2\u001b[0m \u001b[38;5;28;01mimport\u001b[39;00m\u001b[38;5;250m \u001b[39m\u001b[38;5;21;01mpandas\u001b[39;00m\u001b[38;5;250m \u001b[39m\u001b[38;5;28;01mas\u001b[39;00m\u001b[38;5;250m \u001b[39m\u001b[38;5;21;01mpd\u001b[39;00m\n\u001b[1;32m      4\u001b[0m filename \u001b[38;5;241m=\u001b[39m \u001b[38;5;124m'\u001b[39m\u001b[38;5;124mdata/pima-indians-diabetes.csv\u001b[39m\u001b[38;5;124m'\u001b[39m\n",
      "\u001b[0;31mModuleNotFoundError\u001b[0m: No module named 'pandas'"
     ]
    }
   ],
   "source": [
    "from pandas import read_csv\n",
    "import pandas as pd\n",
    "\n",
    "filename = 'data/pima-indians-diabetes.csv'\n",
    "\n",
    "names = ['preg', 'plas', 'pres', 'skin', 'test', 'mass', 'pedi', 'age', 'class']\n",
    "data = read_csv(filename, names=names)\n",
    "print(type(data)) # Get the columns and rows. Format:(rows, cols)\n",
    "### STUDENT CODE HERE\n",
    "\n",
    "### STUDENT CODE until HERE"
   ]
  },
  {
   "cell_type": "markdown",
   "metadata": {},
   "source": [
    "<div class=\"alert alert-block alert-success\">\n",
    "<b>Frage 1.3.2:</b> Detektivarbeit! Wofür stehen die verschiedenen abgekürzten Spaltennamen (Features) wie `preg`, `plas` usw. in unserem Pima Indians Diabetes Datensatz?\n",
    "</div>\n",
    "\n",
    "<div class=\"alert alert-block alert-info\">\n",
    "<b>Hinweis:</b> Die Beschreibung des Datensatzes ist Gold wert! Schau mal hier nach: <a href=\"https://www.kaggle.com/datasets/uciml/pima-indians-diabetes-database\" target=\"_blank\">Pima Indians Diabetes Database auf Kaggle</a>. Dort findest du die Bedeutung der einzelnen Spalten.\n",
    "</div>\n",
    "    \n",
    "<div class=\"alert alert-block alert-success\">\n",
    "<b>Deine Antwort:</b>\n",
    "<!-- Hier kannst du deine Rechercheergebnisse eintragen! -->\n",
    "</div>\n"
   ]
  },
  {
   "cell_type": "markdown",
   "metadata": {},
   "source": [
    "Erinnert ihr euch? Im vorherigen Notebook haben wir schon mal kurz über Datentypen gesprochen und wie man sie konvertieren kann. Bevor ihr aber wild drauf los konvertiert, müsst ihr natürlich erstmal wissen, welche Datentypen überhaupt in eurem DataFrame stecken. Mit dem Pandas-Attribut `dtypes` könnt ihr genau das für jede Spalte herausfinden. Ziemlich praktisch, oder?"
   ]
  },
  {
   "cell_type": "code",
   "execution_count": null,
   "metadata": {},
   "outputs": [],
   "source": [
    "data.dtypes"
   ]
  },
  {
   "cell_type": "markdown",
   "metadata": {},
   "source": [
    "### Die Lupe ansetzen: Deskriptive Statistik im Detail\n",
    "\n",
    "Okay, wir haben jetzt schon mal die Form des Datensatzes, die ersten Zeilen und die Datentypen gecheckt – das ist wie das Inhaltsverzeichnis eines Buches. Jetzt wird's Zeit, tiefer in die Kapitel einzutauchen und mehr über die Eigenschaften der einzelnen Spalten (Variablen) herauszufinden. Was verbirgt sich wirklich hinter den Zahlen? Dieses Wissen hilft uns später enorm dabei, zu beurteilen, ob unsere Machine Learning Algorithmen vernünftige Ergebnisse liefern oder ob vielleicht irgendwo der Wurm drin ist.\n",
    "\n",
    "Die Funktion `.describe()` von Pandas ist hier euer bester Freund. Sie liefert euch auf einen Schlag acht wichtige statistische Kennzahlen für jedes numerische Attribut:\n",
    "\n",
    "*   **count:** Anzahl der nicht-fehlenden Werte\n",
    "*   **mean:** Der Durchschnittswert (Mittelwert)\n",
    "*   **std:** Die Standardabweichung (ein Maß für die Streuung der Werte um den Mittelwert)\n",
    "*   **min:** Der kleinste Wert\n",
    "*   **25%:** Das erste Quartil (25% der Daten liegen unter diesem Wert)\n",
    "*   **50%:** Der Median (genau die Hälfte der Daten liegt unter diesem Wert – oft robuster als der Mittelwert!)\n",
    "*   **75%:** Das dritte Quartil (75% der Daten liegen unter diesem Wert)\n",
    "*   **max:** Der größte Wert\n",
    "\n",
    "<div class=\"alert alert-block alert-success\">\n",
    "<b>Aufgabe 1.3.3:</b> Lasst die Zahlen sprechen! Wendet die `.describe()`-Funktion auf euren Datensatz an.\n",
    "<ul>\n",
    "    <li><b>Profi-Tipp:</b> Damit die Zahlen schön lesbar sind und nicht mit unendlich vielen Nachkommastellen daherkommen, könnt ihr Pandas anweisen, die Genauigkeit der Ausgabe anzupassen. Nutzt dafür <code>set_option('display.precision', N)</code>, wobei <code>N</code> die gewünschte Anzahl an Nachkommastellen ist (z.B. 2 oder 3). Probiert's mal aus, bevor ihr <code>.describe()</code> aufruft!\n",
    "    </li>\n",
    "</ul>\n",
    "</div>"
   ]
  },
  {
   "cell_type": "code",
   "execution_count": null,
   "metadata": {},
   "outputs": [],
   "source": [
    "from pandas import set_option\n",
    "\n",
    "### STUDENT CODE HERE\n",
    "\n",
    "### STUDENT CODE until HERE\n",
    "\n",
    "print(description)"
   ]
  },
  {
   "cell_type": "markdown",
   "metadata": {},
   "source": [
    "### Klassenverteilung: Wer hat die Mehrheit?\n",
    "\n",
    "Bei Klassifikationsaufgaben (wie hier, wo wir Diabetes vorhersagen wollen: Klasse 0 = kein Diabetes, Klasse 1 = Diabetes) ist es super wichtig zu wissen, wie die verschiedenen Klassen in unseren Daten verteilt sind. Sind sie schön \"ausgewogen\" (balanced), also gibt es ungefähr gleich viele Beispiele für jede Klasse? Oder ist eine Klasse viel häufiger vertreten als die andere (unbalanced)? \n",
    "\n",
    "Warum ist das wichtig? Stellt euch vor, 95% eurer Daten gehören zu Klasse A und nur 5% zu Klasse B. Ein simpler Algorithmus könnte dann einfach immer Klasse A vorhersagen und hätte schon eine Genauigkeit von 95% – klingt erstmal toll, ist aber nutzlos, wenn ihr eigentlich Klasse B finden wollt! Eine unausgewogene Verteilung kann also knifflig sein und erfordert oft spezielle Techniken bei der Datenvorbereitung oder Modellauswahl.\n",
    "\n",
    "Um schnell einen Blick auf die Verteilung zu werfen, können wir zählen, wie oft jeder Wert in unserer Zielspalte (hier 'class') vorkommt."
   ]
  },
  {
   "cell_type": "markdown",
   "metadata": {},
   "source": [
    "<div class=\"alert alert-block alert-success\">\n",
    "<b>Aufgabe 1.3.4:</b> Zählt mal nach! Schreibt Code, der für die Spalte 'class' zählt, wie oft jeder Wert (also 0 und 1) vorkommt. Speichert das Ergebnis in der Variable <code>class_counts</code> (Achtung, Plural!).\n",
    "</div>"
   ]
  },
  {
   "cell_type": "code",
   "execution_count": null,
   "metadata": {},
   "outputs": [],
   "source": [
    "### STUDENT CODE HERE\n",
    "\n",
    "### STUDENT CODE until HERE\n",
    "\n",
    "print(class_counts)"
   ]
  },
  {
   "cell_type": "markdown",
   "metadata": {},
   "source": [
    "### Beziehungen aufdecken: Korrelation zwischen Attributen\n",
    "\n",
    "Hängen manche eurer Daten-Features vielleicht zusammen? Wenn sich ein Feature ändert, ändert sich ein anderes dann auch – vielleicht in die gleiche Richtung oder genau entgegengesetzt? Das nennt man Korrelation!\n",
    "\n",
    "Um das zu messen, gibt's den _Pearson-Korrelationskoeffizienten_. Der ist eine Zahl zwischen -1 und 1:\n",
    "*   **Nahe +1:** Starke positive Korrelation (wenn A steigt, steigt auch B). Beispiel: Körpergröße und Schuhgröße.\n",
    "*   **Nahe -1:** Starke negative Korrelation (wenn A steigt, sinkt B). Beispiel: Außentemperatur und Heizkosten.\n",
    "*   **Nahe 0:** Kaum bis keine lineare Korrelation.\n",
    "\n",
    "Mit der Pandas-Funktion `.corr()` könnt ihr eine Korrelationsmatrix berechnen. Die zeigt euch für jedes Paar von Spalten, wie stark sie korrelieren. Diese Matrix ist übrigens symmetrisch (die Korrelation von A mit B ist dieselbe wie von B mit A).\n",
    "\n",
    "<div class=\"alert alert-block alert-success\">\n",
    "<b>Aufgabe/Frage 1.3.5:</b> Ran an die Matrix! Verwendet die <code>.corr()</code>-Methode (Standard ist Pearson), um die Korrelationsmatrix für euren Datensatz zu berechnen. Speichert das Ergebnis in der Variable <code>correlations</code>. Welche spannenden (oder auch nicht so spannenden) Zusammenhänge könnt ihr aus der Matrix ablesen? Gibt es Features, die stark miteinander korrelieren?\n",
    "</div>\n",
    "\n",
    "<div class=\"alert alert-block alert-success\">\n",
    "<b>Eure Antwort:</b>\n",
    "<!-- Was fällt euch auf? Gibt es z.B. Features, die stark positiv oder negativ korrelieren? -->\n",
    "</div>\n"
   ]
  },
  {
   "cell_type": "code",
   "execution_count": null,
   "metadata": {},
   "outputs": [],
   "source": [
    "### STUDENT CODE HERE\n",
    "\n",
    "### STUDENT CODE until HERE\n",
    "\n",
    "print(correlations)"
   ]
  },
  {
   "cell_type": "markdown",
   "metadata": {},
   "source": [
    "## Ein Bild sagt mehr als tausend Zahlen: Daten graphisch verstehen\n",
    "\n",
    "Zahlenkolonnen sind zwar exakt, aber unser Gehirn liebt Bilder! Gerade wenn wir viele Daten-Dimensionen (Features) haben, wird es schnell unübersichtlich, nur auf Tabellen zu starren. Deshalb schnappen wir uns jetzt unsere digitalen Pinsel und Stifte und bringen Graphen ins Spiel! Viele der Konzepte, die wir gerade mit reinen Zahlen betrachtet haben (wie Verteilungen), werden wir jetzt visualisieren. Das macht oft vieles klarer und intuitiver."
   ]
  },
  {
   "cell_type": "markdown",
   "metadata": {},
   "source": [
    "### Histogramme: Die Form der Daten enthüllen\n",
    "\n",
    "Ein Histogramm ist ein super Werkzeug, um schnell ein Gefühl für die Verteilung der Werte eines einzelnen Features zu bekommen. Man sieht auf einen Blick:\n",
    "*   Wo tummeln sich die meisten Werte?\n",
    "*   Gibt es Ausreißer?\n",
    "*   Sieht die Verteilung symmetrisch aus (wie die berühmte Glockenkurve/Normalverteilung)?\n",
    "*   Oder ist sie \"schief\" zu einer Seite?\n",
    "\n",
    "Ein Histogramm funktioniert so: Es teilt den Wertebereich eines Features in mehrere \"Eimer\" (Bins) ein und zählt dann, wie viele Datenpunkte in jeden Eimer fallen. Das Ergebnis wird als Balkendiagramm dargestellt – je höher der Balken, desto mehr Datenpunkte in diesem Bereich.\n",
    "\n",
    "Wir können Histogramme ganz einfach mit Pandas-Methoden erstellen, die oft `Matplotlib` im Hintergrund für die eigentliche Zeichenarbeit nutzen. `Matplotlib` ist DIE Standard-Bibliothek in Python für Visualisierungen."
   ]
  },
  {
   "cell_type": "markdown",
   "metadata": {},
   "source": [
    "<div class=\"alert alert-block alert-success\">\n",
    "<b>Aufgabe 1.3.6:</b> Zeigt her eure Verteilungen! Erzeugt für jedes Merkmal (jede Spalte) im Diabetes-Datensatz ein eigenes Histogramm. Das sollten dann insgesamt 9 Histogramme sein.\n",
    "\n",
    "*   <b>Tipp 1:</b> Pandas ist euer Freund! Ein DataFrame hat eine eingebaute <code>.hist()</code>-Methode, die euch die ganze Arbeit abnimmt und für jede Spalte ein Histogramm zeichnet (mit Matplotlib im Hintergrund). Super easy!\n",
    "*   <b>Tipp 2:</b> Damit die Plots auch hübsch aussehen und sich nicht überlappen, sind die Matplotlib-Funktionen <code>plt.tight_layout()</code> (passt Abstände automatisch an) und <code>plt.show()</code> (zeigt den Plot an) oft sehr nützlich. Importiert dafür <code>matplotlib.pyplot as plt</code>.\n",
    "\n",
    "</div>"
   ]
  },
  {
   "cell_type": "code",
   "execution_count": null,
   "metadata": {},
   "outputs": [],
   "source": [
    "import matplotlib.pyplot as plt\n",
    "\n",
    "### STUDENT CODE HERE\n",
    "\n",
    "### STUDENT CODE until HERE"
   ]
  },
  {
   "cell_type": "markdown",
   "metadata": {},
   "source": [
    "<div class=\"alert alert-block alert-success\">\n",
    "<b>Frage 1.3.7:</b> Was erzählen euch die Histogramme? Welche Beobachtungen könnt ihr machen?\n",
    "<ul>\n",
    "    <li>Welche Features sehen einigermaßen normalverteilt aus?</li>\n",
    "    <li>Bei welchen seht ihr eine deutliche Schiefe?</li>\n",
    "    <li>Gibt es Features, bei denen bestimmte Werte (z.B. die Null) auffällig oft vorkommen? (Denkt an die Bedeutung der Features!)</li>\n",
    "    <li>Passen eure visuellen Eindrücke zu den statistischen Kennzahlen (z.B. Mittelwert vs. Median, Min/Max-Werte), die ihr mit <code>.describe()</code> ermittelt habt?</li>\n",
    "</ul>\n",
    "</div>\n",
    "\n",
    "<div class=\"alert alert-block alert-success\">\n",
    "<b>Eure Antwort:</b>\n",
    "<!-- Notiert hier eure Beobachtungen zu den Histogrammen. -->\n",
    "</div>\n"
   ]
  },
  {
   "cell_type": "markdown",
   "metadata": {},
   "source": [
    "### Dichtediagramme (Density Plots): Die sanfte Kurve der Verteilung\n",
    "\n",
    "Dichtediagramme (auch Kernel Density Estimates oder KDE-Plots genannt) sind quasi die \"geglättete\" Version von Histogrammen. Stellt euch vor, ihr legt eine weiche Kurve über die Balken des Histogramms, um die zugrundeliegende Wahrscheinlichkeitsdichte der Daten darzustellen. Das Ergebnis ist oft eine schönere, kontinuierliche Linie, die die Form der Verteilung zeigt.\n",
    "\n",
    "Sie helfen, wie Histogramme, die Form der Verteilung zu verstehen, können aber manchmal subtilere Muster aufzeigen, da sie nicht von der Wahl der \"Eimer\" (Bins) abhängen wie Histogramme."
   ]
  },
  {
   "cell_type": "markdown",
   "metadata": {},
   "source": [
    "<div class=\"alert alert-block alert-success\">\n",
    "<b>Aufgabe 1.3.8:</b> Auf zur sanften Tour! Findet heraus, wie ihr mit Pandas für jedes Feature ein Dichtediagramm (density plot) erstellen könnt. Stellt wieder ein Diagramm pro Feature dar.\n",
    "<ul>\n",
    "    <li><b>Tipp:</b> DataFrames haben eine sehr vielseitige <code>.plot()</code> Methode. Schaut mal, ob ihr dort einen passenden <code>kind</code>-Parameter findet! Parameter wie <code>subplots=True</code> und <code>layout=(rows, cols)</code> könnten auch hier nützlich sein, um mehrere Plots übersichtlich anzuordnen.</li>\n",
    "</ul>\n",
    "</div>"
   ]
  },
  {
   "cell_type": "code",
   "execution_count": null,
   "metadata": {},
   "outputs": [],
   "source": [
    "### STUDENT CODE HERE\n",
    "\n",
    "### STUDENT CODE until HERE"
   ]
  },
  {
   "cell_type": "markdown",
   "metadata": {},
   "source": [
    "### Box- und Whisker-Plots (Boxplots): Die Fünf-Zahlen-Zusammenfassung im Bild\n",
    "\n",
    "Boxplots sehen auf den ersten Blick vielleicht etwas kryptisch aus, sind aber mega nützlich, um die Verteilung von Daten schnell zu erfassen – besonders um verschiedene Verteilungen miteinander zu vergleichen! Ein Boxplot fasst mehrere wichtige statistische Kennzahlen in einem Bild zusammen:\n",
    "\n",
    "*   **Die Box:**\n",
    "    *   Der Strich in der Mitte der Box ist der **Median** (50. Perzentil).\n",
    "    *   Das untere Ende der Box ist das **erste Quartil (Q1)** (25. Perzentil).\n",
    "    *   Das obere Ende der Box ist das **dritte Quartil (Q3)** (75. Perzentil).\n",
    "    *   Die Länge der Box entspricht dem **Interquartilsabstand (IQR)** = Q3 - Q1. In dieser Box liegen also die mittleren 50% eurer Daten.\n",
    "\n",
    "*   **Die Whiskers (die \"Schnurrhaare\"):**\n",
    "    *   Diese Linien erstrecken sich von der Box nach außen und zeigen die Streuung der restlichen Daten. Typischerweise gehen sie bis zum 1.5-fachen des IQR von der Box weg, aber nicht über den kleinsten/größten Datenpunkt hinaus, der noch innerhalb dieser Grenze liegt.\n",
    "\n",
    "*   **Die Ausreißer:**\n",
    "    *   Datenpunkte, die außerhalb der Whiskers liegen, werden oft als einzelne Punkte dargestellt. Das sind potenzielle Ausreißer!\n",
    "\n",
    "Mehr Infos und Beispiele findet ihr auch auf Wikipedia: <a href=\"https://de.wikipedia.org/wiki/Box-Plot\" target=\"_blank\">Box-Plot auf Wikipedia</a>.\n",
    "</div>"
   ]
  },
  {
   "cell_type": "markdown",
   "metadata": {},
   "source": [
    "<div class=\"alert alert-block alert-success\">\n",
    "<b>Aufgabe 1.3.9:</b> Packt die Daten in die Box! Visualisiert alle Features eures Datensatzes mithilfe von Boxplots. Auch hier könnt ihr wieder die Plotting-Funktionen von Pandas nutzen.\n",
    "<ul>\n",
    "    <li><b>Tipp:</b> Ähnlich wie bei den Density Plots, schaut euch die <code>.plot()</code> Methode mit dem richtigen <code>kind</code> an. <code>subplots=True</code> und <code>layout</code> sind auch hier eure Freunde für eine übersichtliche Darstellung!</li>\n",
    "</ul>\n",
    "</div>"
   ]
  },
  {
   "cell_type": "code",
   "execution_count": null,
   "metadata": {},
   "outputs": [],
   "source": [
    "### STUDENT CODE HERE\n",
    "\n",
    "### STUDENT CODE until HERE"
   ]
  },
  {
   "cell_type": "markdown",
   "metadata": {},
   "source": [
    "### Mehrdimensionale Plots: Beziehungen im Rampenlicht\n",
    "\n",
    "#### Korrelationsmatrix als Heatmap: Wo wird's heiß?\n",
    "\n",
    "Die Korrelationsmatrix als schnöde Tabelle haben wir ja schon gesehen. Aber wird's nicht viel cooler, wenn wir das visualisieren? Eine Heatmap ist dafür perfekt! Sie stellt die Werte der Korrelationsmatrix farblich dar: Starke positive Korrelationen bekommen eine Farbe, starke negative eine andere, und Werte um Null sind neutral. So seht ihr auf einen Blick, welche Features \"heiß\" miteinander verbandelt sind.\n",
    "\n",
    "Warum ist das wichtig? Stark korrelierte Features können manchmal Probleme machen, z.B. bei manchen Machine Learning Algorithmen zu Instabilitäten führen oder einfach redundant sein (sie erzählen uns quasi dasselbe). Es ist also gut, sie zu kennen!\n",
    "\n",
    "<div class=\"alert alert-block alert-success\">\n",
    "<b>Aufgabe 1.3.10:</b> Macht's heiß! Erstellt eine Heatmap eurer Korrelationsmatrix (die ihr in Aufgabe 1.3.5 als Variable <code>correlations</code> gespeichert haben solltet).\n",
    "<ul>\n",
    "    <li><b>Tipp 1:</b> Matplotlib hat eine Funktion namens <code>plt.matshow()</code>, die dafür gut geeignet ist. Eine Farbskala (Colorbar) mit <code>plt.colorbar()</code> hilft bei der Interpretation.</li>\n",
    "    <li><b>Tipp 2 (optional, für Fortgeschrittene):</b> Die Bibliothek <code>seaborn</code> (oft als <code>sns</code> importiert) hat eine noch schickere <code>sns.heatmap()</code> Funktion, die auch gleich Beschriftungen und Werte in den Zellen anzeigen kann. Wenn ihr Lust habt, probiert die mal aus! Dafür müsstet ihr Seaborn ggf. erst installieren (<code>pip install seaborn</code>) und importieren (<code>import seaborn as sns</code>). Für diese Aufgabe reicht aber <code>plt.matshow()</code> völlig.</li>\n",
    "</ul>\n",
    "</div>"
   ]
  },
  {
   "cell_type": "code",
   "execution_count": null,
   "metadata": {},
   "outputs": [],
   "source": [
    "### STUDENT CODE HERE\n",
    "\n",
    "### STUDENT CODE until HERE"
   ]
  },
  {
   "cell_type": "markdown",
   "metadata": {},
   "source": [
    "Na also, schon habt ihr einen viel besseren visuellen Überblick über die Zusammenhänge in euren Daten! \n",
    "\n",
    "Je nachdem, wie ihr die Heatmap gestaltet habt, seht ihr vielleicht schon einige interessante Muster. Um genau zu wissen, welcher Korrelationskoeffizient zu welchem Attributspaar gehört, sind Achsenbeschriftungen (Ticks und Labels) Gold wert. Bei <code>plt.matshow()</code> müsst ihr die eventuell manuell mit <code>plt.xticks()</code> und <code>plt.yticks()</code> setzen. Wenn ihr die Namen der Spalten eures DataFrames verwendet (<code>data.columns</code>), wird's richtig aussagekräftig!"
   ]
  },
  {
   "cell_type": "markdown",
   "metadata": {},
   "source": [
    "#### Streudiagramm-Matrix (Scatter Plot Matrix): Alle gegen Alle!\n",
    "\n",
    "Eine weitere super Methode, um Beziehungen zwischen *allen* Feature-Paaren auf einmal zu visualisieren, ist die Streudiagramm-Matrix (Scatter Plot Matrix). Stellt euch vor, ihr nehmt jedes Feature und plottet es gegen jedes andere Feature in einem kleinen Streudiagramm (Scatter Plot). Ein einzelnes Streudiagramm zeigt die Werte von zwei Features als Punkte in einem 2D-Diagramm. Die Scatter Plot Matrix packt all diese paarweisen Diagramme in eine große Matrix.\n",
    "\n",
    "Der Clou: Ihr könnt so auf einen Blick sehen, ob es zwischen bestimmten Feature-Paaren interessante Muster oder Zusammenhänge gibt – lineare, nicht-lineare, Cluster, einfach alles! Auf der Diagonalen dieser Matrix findet man oft Histogramme oder Dichtediagramme der einzelnen Features."
   ]
  },
  {
   "cell_type": "markdown",
   "metadata": {},
   "source": [
    "<div class=\"alert alert-block alert-success\">\n",
    "<b>Aufgabe 1.3.11:</b> Lasst die Punkte tanzen! Plottet eine Streudiagramm-Matrix für euren Datensatz.\n",
    "<ul>\n",
    "    <li><b>Tipp:</b> Pandas hat dafür extra eine Funktion in <code>pandas.plotting</code>, nämlich <code>scatter_matrix</code>. Die müsst ihr eventuell separat importieren: <code>from pandas.plotting import scatter_matrix</code>.</li>\n",
    "</ul>\n",
    "</div>\n",
    "<div class=\"alert alert-block alert-success\">\n",
    "<b>Frage 1.3.12:</b> Was könnt ihr in dieser Matrix aus vielen kleinen Diagrammen erkennen? Seht ihr irgendwo klare Zusammenhänge, interessante Formen oder Gruppen von Punkten?\n",
    "</div>\n",
    "\n",
    "<div class=\"alert alert-block alert-success\">\n",
    "<b>Eure Antwort:</b>\n",
    "<!-- Beschreibt eure Beobachtungen aus der Scatter Plot Matrix. -->\n",
    "</div>\n"
   ]
  },
  {
   "cell_type": "code",
   "execution_count": null,
   "metadata": {},
   "outputs": [],
   "source": [
    "from pandas.plotting import scatter_matrix\n",
    "\n",
    "### STUDENT CODE HERE\n",
    "\n",
    "### STUDENT CODE until HERE\n",
    "\n",
    "plt.show()"
   ]
  },
  {
   "cell_type": "markdown",
   "metadata": {},
   "source": [
    "## Schiefe (Skewness): Wenn Daten Schlagseite haben\n",
    "\n",
    "Viele Machine Learning Algorithmen mögen es am liebsten, wenn ihre Input-Daten schön symmetrisch verteilt sind, idealerweise wie eine Normalverteilung (Gaußsche Glockenkurve, siehe <a href=\"https://de.wikipedia.org/wiki/Normalverteilung\" target=\"_blank\">Normalverteilung auf Wikipedia</a>). Wenn eure Daten aber eine deutliche \"Schlagseite\" haben, also \"schief\" sind (skewed), kann das die Performance dieser Algorithmen beeinträchtigen. Manchmal ist es dann sinnvoll, diese Schiefe in der Datenvorbereitung zu korrigieren (z.B. durch Transformationen wie Logarithmieren).\n",
    "\n",
    "Lasst uns mal die Schiefe für unseren Diabetes-Datensatz berechnen. Pandas hat dafür die praktische `.skew()`-Funktion.\n",
    "*   Ein Wert nahe 0 bedeutet, die Verteilung ist ziemlich symmetrisch.\n",
    "*   Ein positiver Wert bedeutet eine rechtsschiefe Verteilung (der \"Schwanz\" der Verteilung ist länger auf der rechten Seite).\n",
    "*   Ein negativer Wert bedeutet eine linksschiefe Verteilung (der \"Schwanz\" ist links länger).\n",
    "Je weiter der Wert von 0 entfernt ist, desto stärker die Schiefe.\n",
    "\n",
    "<div class=\"alert alert-block alert-success\">\n",
    "<b>Aufgabe/Frage 1.3.13:</b> Wie schief sind eure Daten? Berechnet die Schiefe für alle Spalten der Diabetesdaten. Speichert das Ergebnis in der Variable <code>skew</code>. Beschreibt dann eure Beobachtungen: Welche Features sind merklich schief? In welche Richtung? Mehr Infos zur Schiefe gibt's hier: <a href=\"https://de.wikipedia.org/wiki/Schiefe_(Statistik)\" target=\"_blank\">Schiefe (Statistik) auf Wikipedia</a>.\n",
    "</div>\n",
    "\n",
    "<div class=\"alert alert-block alert-success\">\n",
    "<b>Eure Antwort:</b>\n",
    "<!-- Welche Features sind schief und wie stark? -->\n",
    "</div>\n"
   ]
  },
  {
   "cell_type": "code",
   "execution_count": null,
   "metadata": {},
   "outputs": [],
   "source": [
    "### STUDENT CODE HERE\n",
    "\n",
    "### STUDENT CODE until HERE\n",
    "\n",
    "print(skew)"
   ]
  }
 ],
 "metadata": {
  "kernelspec": {
   "display_name": "Python 3",
   "language": "python",
   "name": "python3"
  },
  "language_info": {
   "codemirror_mode": {
    "name": "ipython",
    "version": 3
   },
   "file_extension": ".py",
   "mimetype": "text/x-python",
   "name": "python",
   "nbconvert_exporter": "python",
   "pygments_lexer": "ipython3",
   "version": "3.9.6"
  }
 },
 "nbformat": 4,
 "nbformat_minor": 4
}
